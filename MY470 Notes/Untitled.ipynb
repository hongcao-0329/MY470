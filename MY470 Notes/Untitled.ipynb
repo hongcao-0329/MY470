{
 "cells": [
  {
   "cell_type": "markdown",
   "metadata": {},
   "source": [
    "Introduction to Command Line\n",
    "\n",
    "1. cd # set working directory\n",
    "2. mkdir # create a file\n",
    "3. ls -l or ll # list the content of directory for mac\n",
    "4. touch # create an empty file\n",
    "5. if have spaces in folder names -- wrap the file name in quotation marks or inverted commas in the specified directory\n",
    "6. when using git, start each command with the word \"git\"\n",
    "    e.g.\n",
    "    git pull\n",
    "    git status\n",
    "    git clone\n",
    "    git init # creating a new repository(repo)\n",
    "    \n",
    "\n",
    "\n",
    "\n",
    "\n",
    "\n",
    "\n"
   ]
  }
 ],
 "metadata": {
  "kernelspec": {
   "display_name": "Python 3",
   "language": "python",
   "name": "python3"
  },
  "language_info": {
   "codemirror_mode": {
    "name": "ipython",
    "version": 3
   },
   "file_extension": ".py",
   "mimetype": "text/x-python",
   "name": "python",
   "nbconvert_exporter": "python",
   "pygments_lexer": "ipython3",
   "version": "3.8.5"
  }
 },
 "nbformat": 4,
 "nbformat_minor": 4
}
